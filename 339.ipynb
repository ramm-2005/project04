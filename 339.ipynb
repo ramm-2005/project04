{
 "cells": [
  {
   "cell_type": "markdown",
   "metadata": {},
   "source": [
    "# basic python"
   ]
  },
  {
   "cell_type": "code",
   "execution_count": 1,
   "metadata": {},
   "outputs": [
    {
     "data": {
      "text/plain": [
       "'malla reddy university'"
      ]
     },
     "execution_count": 1,
     "metadata": {},
     "output_type": "execute_result"
    }
   ],
   "source": [
    "c = 'malla reddy university'\n",
    "c"
   ]
  },
  {
   "cell_type": "code",
   "execution_count": 2,
   "metadata": {},
   "outputs": [
    {
     "name": "stdout",
     "output_type": "stream",
     "text": [
      "malla reddy university\n"
     ]
    }
   ],
   "source": [
    "print(c)"
   ]
  },
  {
   "cell_type": "code",
   "execution_count": 3,
   "metadata": {},
   "outputs": [
    {
     "data": {
      "text/plain": [
       "str"
      ]
     },
     "execution_count": 3,
     "metadata": {},
     "output_type": "execute_result"
    }
   ],
   "source": [
    "type(c)\n"
   ]
  },
  {
   "cell_type": "code",
   "execution_count": 4,
   "metadata": {},
   "outputs": [
    {
     "data": {
      "text/plain": [
       "(3+4j)"
      ]
     },
     "execution_count": 4,
     "metadata": {},
     "output_type": "execute_result"
    }
   ],
   "source": [
    "t = (3+4j)\n",
    "t"
   ]
  },
  {
   "cell_type": "code",
   "execution_count": 5,
   "metadata": {},
   "outputs": [
    {
     "data": {
      "text/plain": [
       "complex"
      ]
     },
     "execution_count": 5,
     "metadata": {},
     "output_type": "execute_result"
    }
   ],
   "source": [
    "type(t)"
   ]
  },
  {
   "cell_type": "code",
   "execution_count": 7,
   "metadata": {},
   "outputs": [
    {
     "data": {
      "text/plain": [
       "650"
      ]
     },
     "execution_count": 7,
     "metadata": {},
     "output_type": "execute_result"
    }
   ],
   "source": [
    "a = 650\n",
    "a"
   ]
  },
  {
   "cell_type": "markdown",
   "metadata": {},
   "source": [
    "### addition +\n",
    "### subtraction -\n",
    "### division /\n",
    "### multiplication *\n",
    "### reminder %\n",
    "### power **\n",
    "### floor division //"
   ]
  },
  {
   "cell_type": "code",
   "execution_count": 7,
   "metadata": {},
   "outputs": [],
   "source": [
    "a = 23\n",
    "b = 3\n"
   ]
  },
  {
   "cell_type": "code",
   "execution_count": 9,
   "metadata": {},
   "outputs": [
    {
     "data": {
      "text/plain": [
       "26"
      ]
     },
     "execution_count": 9,
     "metadata": {},
     "output_type": "execute_result"
    }
   ],
   "source": [
    "c = a + b\n",
    "c"
   ]
  },
  {
   "cell_type": "code",
   "execution_count": 10,
   "metadata": {},
   "outputs": [
    {
     "data": {
      "text/plain": [
       "int"
      ]
     },
     "execution_count": 10,
     "metadata": {},
     "output_type": "execute_result"
    }
   ],
   "source": [
    "type(c)"
   ]
  },
  {
   "cell_type": "code",
   "execution_count": 11,
   "metadata": {},
   "outputs": [
    {
     "data": {
      "text/plain": [
       "69"
      ]
     },
     "execution_count": 11,
     "metadata": {},
     "output_type": "execute_result"
    }
   ],
   "source": [
    "d = a*b\n",
    "d"
   ]
  },
  {
   "cell_type": "code",
   "execution_count": 12,
   "metadata": {},
   "outputs": [
    {
     "data": {
      "text/plain": [
       "int"
      ]
     },
     "execution_count": 12,
     "metadata": {},
     "output_type": "execute_result"
    }
   ],
   "source": [
    "type(d)\n"
   ]
  },
  {
   "cell_type": "code",
   "execution_count": 13,
   "metadata": {},
   "outputs": [
    {
     "data": {
      "text/plain": [
       "7.666666666666667"
      ]
     },
     "execution_count": 13,
     "metadata": {},
     "output_type": "execute_result"
    }
   ],
   "source": [
    "z = a/b\n",
    "z"
   ]
  },
  {
   "cell_type": "code",
   "execution_count": 14,
   "metadata": {},
   "outputs": [
    {
     "data": {
      "text/plain": [
       "float"
      ]
     },
     "execution_count": 14,
     "metadata": {},
     "output_type": "execute_result"
    }
   ],
   "source": [
    "type(z)"
   ]
  },
  {
   "cell_type": "code",
   "execution_count": 15,
   "metadata": {},
   "outputs": [
    {
     "data": {
      "text/plain": [
       "7"
      ]
     },
     "execution_count": 15,
     "metadata": {},
     "output_type": "execute_result"
    }
   ],
   "source": [
    "f = a//b\n",
    "f"
   ]
  },
  {
   "cell_type": "code",
   "execution_count": 16,
   "metadata": {},
   "outputs": [
    {
     "data": {
      "text/plain": [
       "12167"
      ]
     },
     "execution_count": 16,
     "metadata": {},
     "output_type": "execute_result"
    }
   ],
   "source": [
    "g = a**b\n",
    "g"
   ]
  },
  {
   "cell_type": "markdown",
   "metadata": {},
   "source": [
    "> < >= <= == !="
   ]
  },
  {
   "cell_type": "code",
   "execution_count": 17,
   "metadata": {},
   "outputs": [],
   "source": [
    "a = 45\n",
    "b = 23"
   ]
  },
  {
   "cell_type": "code",
   "execution_count": 18,
   "metadata": {},
   "outputs": [
    {
     "data": {
      "text/plain": [
       "False"
      ]
     },
     "execution_count": 18,
     "metadata": {},
     "output_type": "execute_result"
    }
   ],
   "source": [
    "a<b"
   ]
  },
  {
   "cell_type": "code",
   "execution_count": 19,
   "metadata": {},
   "outputs": [
    {
     "data": {
      "text/plain": [
       "False"
      ]
     },
     "execution_count": 19,
     "metadata": {},
     "output_type": "execute_result"
    }
   ],
   "source": [
    "b>c"
   ]
  },
  {
   "cell_type": "code",
   "execution_count": 20,
   "metadata": {},
   "outputs": [
    {
     "data": {
      "text/plain": [
       "True"
      ]
     },
     "execution_count": 20,
     "metadata": {},
     "output_type": "execute_result"
    }
   ],
   "source": [
    "a>=b"
   ]
  },
  {
   "cell_type": "code",
   "execution_count": 21,
   "metadata": {},
   "outputs": [
    {
     "data": {
      "text/plain": [
       "False"
      ]
     },
     "execution_count": 21,
     "metadata": {},
     "output_type": "execute_result"
    }
   ],
   "source": [
    "a<=b\n"
   ]
  },
  {
   "cell_type": "code",
   "execution_count": 22,
   "metadata": {},
   "outputs": [
    {
     "data": {
      "text/plain": [
       "False"
      ]
     },
     "execution_count": 22,
     "metadata": {},
     "output_type": "execute_result"
    }
   ],
   "source": [
    "a==b"
   ]
  },
  {
   "cell_type": "code",
   "execution_count": 23,
   "metadata": {},
   "outputs": [
    {
     "data": {
      "text/plain": [
       "True"
      ]
     },
     "execution_count": 23,
     "metadata": {},
     "output_type": "execute_result"
    }
   ],
   "source": [
    "a!=b"
   ]
  },
  {
   "cell_type": "markdown",
   "metadata": {},
   "source": [
    "  list tuple"
   ]
  },
  {
   "cell_type": "code",
   "execution_count": 3,
   "metadata": {},
   "outputs": [],
   "source": [
    "a = 56"
   ]
  },
  {
   "cell_type": "code",
   "execution_count": 4,
   "metadata": {},
   "outputs": [
    {
     "data": {
      "text/plain": [
       "56"
      ]
     },
     "execution_count": 4,
     "metadata": {},
     "output_type": "execute_result"
    }
   ],
   "source": [
    "a"
   ]
  },
  {
   "cell_type": "code",
   "execution_count": 5,
   "metadata": {},
   "outputs": [
    {
     "data": {
      "text/plain": [
       "[23, 34, 45, 56, 67]"
      ]
     },
     "execution_count": 5,
     "metadata": {},
     "output_type": "execute_result"
    }
   ],
   "source": [
    "a=[ 23,34,45,56,67]\n",
    "a"
   ]
  },
  {
   "cell_type": "code",
   "execution_count": 6,
   "metadata": {},
   "outputs": [
    {
     "data": {
      "text/plain": [
       "list"
      ]
     },
     "execution_count": 6,
     "metadata": {},
     "output_type": "execute_result"
    }
   ],
   "source": [
    "type(a)"
   ]
  },
  {
   "cell_type": "code",
   "execution_count": 17,
   "metadata": {},
   "outputs": [
    {
     "data": {
      "text/plain": [
       "[340, 80, 45, 'data', True]"
      ]
     },
     "execution_count": 17,
     "metadata": {},
     "output_type": "execute_result"
    }
   ],
   "source": [
    "d = [340,80,45,'data',True]\n",
    "d"
   ]
  },
  {
   "cell_type": "code",
   "execution_count": 18,
   "metadata": {},
   "outputs": [],
   "source": [
    "c = [203,'Hyderabad',45,True,False,78,175,34.9]"
   ]
  },
  {
   "cell_type": "code",
   "execution_count": 19,
   "metadata": {},
   "outputs": [
    {
     "data": {
      "text/plain": [
       "[203, 'Hyderabad', 45, True, False, 78, 175, 34.9]"
      ]
     },
     "execution_count": 19,
     "metadata": {},
     "output_type": "execute_result"
    }
   ],
   "source": [
    "c"
   ]
  },
  {
   "cell_type": "code",
   "execution_count": 20,
   "metadata": {},
   "outputs": [
    {
     "data": {
      "text/plain": [
       "203"
      ]
     },
     "execution_count": 20,
     "metadata": {},
     "output_type": "execute_result"
    }
   ],
   "source": [
    "c[0]"
   ]
  },
  {
   "cell_type": "code",
   "execution_count": 21,
   "metadata": {},
   "outputs": [
    {
     "data": {
      "text/plain": [
       "'Hyderabad'"
      ]
     },
     "execution_count": 21,
     "metadata": {},
     "output_type": "execute_result"
    }
   ],
   "source": [
    "c[1]"
   ]
  },
  {
   "cell_type": "code",
   "execution_count": null,
   "metadata": {},
   "outputs": [],
   "source": []
  },
  {
   "cell_type": "code",
   "execution_count": 22,
   "metadata": {},
   "outputs": [
    {
     "data": {
      "text/plain": [
       "False"
      ]
     },
     "execution_count": 22,
     "metadata": {},
     "output_type": "execute_result"
    }
   ],
   "source": [
    "c[4]"
   ]
  },
  {
   "cell_type": "code",
   "execution_count": 23,
   "metadata": {},
   "outputs": [
    {
     "data": {
      "text/plain": [
       "[203, 'Hyderabad', 45, True, False, 78, 175, 34.9]"
      ]
     },
     "execution_count": 23,
     "metadata": {},
     "output_type": "execute_result"
    }
   ],
   "source": [
    "c"
   ]
  },
  {
   "cell_type": "code",
   "execution_count": 24,
   "metadata": {},
   "outputs": [
    {
     "data": {
      "text/plain": [
       "[203, False]"
      ]
     },
     "execution_count": 24,
     "metadata": {},
     "output_type": "execute_result"
    }
   ],
   "source": [
    "c[0:8:4]"
   ]
  },
  {
   "cell_type": "code",
   "execution_count": 25,
   "metadata": {},
   "outputs": [
    {
     "data": {
      "text/plain": [
       "45"
      ]
     },
     "execution_count": 25,
     "metadata": {},
     "output_type": "execute_result"
    }
   ],
   "source": [
    "c[2]"
   ]
  },
  {
   "cell_type": "code",
   "execution_count": 4,
   "metadata": {},
   "outputs": [
    {
     "data": {
      "text/plain": [
       "[175, 78, False, True, 45]"
      ]
     },
     "execution_count": 4,
     "metadata": {},
     "output_type": "execute_result"
    }
   ],
   "source": [
    "e = [175,78,False,True,45]\n",
    "e"
   ]
  },
  {
   "cell_type": "code",
   "execution_count": 5,
   "metadata": {},
   "outputs": [
    {
     "data": {
      "text/plain": [
       "[45, True]"
      ]
     },
     "execution_count": 5,
     "metadata": {},
     "output_type": "execute_result"
    }
   ],
   "source": [
    "e[6:2:-1]"
   ]
  },
  {
   "cell_type": "code",
   "execution_count": 8,
   "metadata": {},
   "outputs": [
    {
     "data": {
      "text/plain": [
       "[203, 90, 'Hyderabad', True, False, 78, 34.9, 80]"
      ]
     },
     "execution_count": 8,
     "metadata": {},
     "output_type": "execute_result"
    }
   ],
   "source": [
    "c = [203,90,'Hyderabad',True,False,78,34.9,80]\n",
    "c"
   ]
  },
  {
   "cell_type": "markdown",
   "metadata": {},
   "source": [
    "# list methods"
   ]
  },
  {
   "cell_type": "code",
   "execution_count": null,
   "metadata": {},
   "outputs": [],
   "source": [
    "# append\n",
    "insert \n",
    "extend \n",
    "pop\n",
    "remove\n",
    "clear \n",
    "count"
   ]
  },
  {
   "cell_type": "code",
   "execution_count": 14,
   "metadata": {},
   "outputs": [
    {
     "data": {
      "text/plain": [
       "[203, 90, 'Hyderabad', False, 78, 34.9, 80]"
      ]
     },
     "execution_count": 14,
     "metadata": {},
     "output_type": "execute_result"
    }
   ],
   "source": [
    "c"
   ]
  },
  {
   "cell_type": "code",
   "execution_count": 16,
   "metadata": {},
   "outputs": [
    {
     "data": {
      "text/plain": [
       "[203, 90, 'Hyderabad', 34.9, 80]"
      ]
     },
     "execution_count": 16,
     "metadata": {},
     "output_type": "execute_result"
    }
   ],
   "source": [
    "c.pop(3)\n",
    "c"
   ]
  },
  {
   "cell_type": "code",
   "execution_count": 17,
   "metadata": {},
   "outputs": [
    {
     "data": {
      "text/plain": [
       "[203, 90, 'Hyderabad', 34.9, 80, 80]"
      ]
     },
     "execution_count": 17,
     "metadata": {},
     "output_type": "execute_result"
    }
   ],
   "source": [
    "c.append(80)\n",
    "c"
   ]
  },
  {
   "cell_type": "code",
   "execution_count": 18,
   "metadata": {},
   "outputs": [
    {
     "data": {
      "text/plain": [
       "[203, 80, 90, 'Hyderabad', 34.9, 80, 80]"
      ]
     },
     "execution_count": 18,
     "metadata": {},
     "output_type": "execute_result"
    }
   ],
   "source": [
    "c.insert(1,80)\n",
    "c"
   ]
  },
  {
   "cell_type": "code",
   "execution_count": 19,
   "metadata": {},
   "outputs": [
    {
     "data": {
      "text/plain": [
       "[203, 80, 90, 'Hyderabad', 34.9, 80, 80]"
      ]
     },
     "execution_count": 19,
     "metadata": {},
     "output_type": "execute_result"
    }
   ],
   "source": [
    "c.count(203)\n",
    "c"
   ]
  },
  {
   "cell_type": "code",
   "execution_count": 6,
   "metadata": {},
   "outputs": [
    {
     "data": {
      "text/plain": [
       "{101: 4, 102: 7, 105: 2}"
      ]
     },
     "execution_count": 6,
     "metadata": {},
     "output_type": "execute_result"
    }
   ],
   "source": [
    "d={101: 4,102:7,105: 2}\n",
    "d"
   ]
  },
  {
   "cell_type": "code",
   "execution_count": 4,
   "metadata": {},
   "outputs": [
    {
     "data": {
      "text/plain": [
       "4"
      ]
     },
     "execution_count": 4,
     "metadata": {},
     "output_type": "execute_result"
    }
   ],
   "source": [
    "d[101]"
   ]
  },
  {
   "cell_type": "code",
   "execution_count": 7,
   "metadata": {},
   "outputs": [
    {
     "data": {
      "text/plain": [
       "2"
      ]
     },
     "execution_count": 7,
     "metadata": {},
     "output_type": "execute_result"
    }
   ],
   "source": [
    "d[105]"
   ]
  },
  {
   "cell_type": "code",
   "execution_count": 9,
   "metadata": {},
   "outputs": [],
   "source": [
    "d.update({105:300})"
   ]
  },
  {
   "cell_type": "code",
   "execution_count": 10,
   "metadata": {},
   "outputs": [
    {
     "data": {
      "text/plain": [
       "{101: 4, 102: 7, 105: 300}"
      ]
     },
     "execution_count": 10,
     "metadata": {},
     "output_type": "execute_result"
    }
   ],
   "source": [
    "d"
   ]
  },
  {
   "cell_type": "code",
   "execution_count": 13,
   "metadata": {},
   "outputs": [
    {
     "data": {
      "text/plain": [
       "dict_values([4, 7, 300])"
      ]
     },
     "execution_count": 13,
     "metadata": {},
     "output_type": "execute_result"
    }
   ],
   "source": [
    "d.values()"
   ]
  },
  {
   "cell_type": "code",
   "execution_count": 14,
   "metadata": {},
   "outputs": [],
   "source": [
    "d.update({103: 'India'})"
   ]
  },
  {
   "cell_type": "code",
   "execution_count": 15,
   "metadata": {},
   "outputs": [
    {
     "data": {
      "text/plain": [
       "{101: 4, 102: 7, 105: 300, 103: 'India'}"
      ]
     },
     "execution_count": 15,
     "metadata": {},
     "output_type": "execute_result"
    }
   ],
   "source": [
    "d"
   ]
  },
  {
   "cell_type": "code",
   "execution_count": 16,
   "metadata": {},
   "outputs": [],
   "source": [
    "d[106] = 4000"
   ]
  },
  {
   "cell_type": "code",
   "execution_count": 17,
   "metadata": {},
   "outputs": [
    {
     "data": {
      "text/plain": [
       "{101: 4, 102: 7, 105: 300, 103: 'India', 106: 4000}"
      ]
     },
     "execution_count": 17,
     "metadata": {},
     "output_type": "execute_result"
    }
   ],
   "source": [
    "d"
   ]
  },
  {
   "cell_type": "code",
   "execution_count": 19,
   "metadata": {},
   "outputs": [],
   "source": [
    "d[107] = 3000"
   ]
  },
  {
   "cell_type": "code",
   "execution_count": 20,
   "metadata": {},
   "outputs": [
    {
     "data": {
      "text/plain": [
       "{101: 4, 102: 7, 105: 300, 103: 'India', 106: 4000, 107: 3000}"
      ]
     },
     "execution_count": 20,
     "metadata": {},
     "output_type": "execute_result"
    }
   ],
   "source": [
    "d"
   ]
  },
  {
   "cell_type": "code",
   "execution_count": 21,
   "metadata": {},
   "outputs": [],
   "source": [
    "d[108] = 'ram'"
   ]
  },
  {
   "cell_type": "code",
   "execution_count": 22,
   "metadata": {},
   "outputs": [
    {
     "data": {
      "text/plain": [
       "{101: 4, 102: 7, 105: 300, 103: 'India', 106: 4000, 107: 3000, 108: 'ram'}"
      ]
     },
     "execution_count": 22,
     "metadata": {},
     "output_type": "execute_result"
    }
   ],
   "source": [
    "d"
   ]
  },
  {
   "cell_type": "code",
   "execution_count": 23,
   "metadata": {},
   "outputs": [],
   "source": [
    "del d[105]"
   ]
  },
  {
   "cell_type": "code",
   "execution_count": 24,
   "metadata": {},
   "outputs": [
    {
     "data": {
      "text/plain": [
       "{101: 4, 102: 7, 103: 'India', 106: 4000, 107: 3000, 108: 'ram'}"
      ]
     },
     "execution_count": 24,
     "metadata": {},
     "output_type": "execute_result"
    }
   ],
   "source": [
    "d"
   ]
  },
  {
   "cell_type": "code",
   "execution_count": 25,
   "metadata": {},
   "outputs": [],
   "source": [
    "d.update({102 : 600})"
   ]
  },
  {
   "cell_type": "code",
   "execution_count": 26,
   "metadata": {},
   "outputs": [
    {
     "data": {
      "text/plain": [
       "{101: 4, 102: 600, 103: 'India', 106: 4000, 107: 3000, 108: 'ram'}"
      ]
     },
     "execution_count": 26,
     "metadata": {},
     "output_type": "execute_result"
    }
   ],
   "source": [
    "d"
   ]
  },
  {
   "cell_type": "code",
   "execution_count": 27,
   "metadata": {},
   "outputs": [],
   "source": [
    "d.update({101 : 'India'})"
   ]
  },
  {
   "cell_type": "code",
   "execution_count": 28,
   "metadata": {},
   "outputs": [
    {
     "data": {
      "text/plain": [
       "{101: 'India', 102: 600, 103: 'India', 106: 4000, 107: 3000, 108: 'ram'}"
      ]
     },
     "execution_count": 28,
     "metadata": {},
     "output_type": "execute_result"
    }
   ],
   "source": [
    "d"
   ]
  },
  {
   "cell_type": "code",
   "execution_count": 29,
   "metadata": {},
   "outputs": [
    {
     "data": {
      "text/plain": [
       "'India'"
      ]
     },
     "execution_count": 29,
     "metadata": {},
     "output_type": "execute_result"
    }
   ],
   "source": [
    "d.get(103)"
   ]
  },
  {
   "cell_type": "code",
   "execution_count": 30,
   "metadata": {},
   "outputs": [
    {
     "data": {
      "text/plain": [
       "dict"
      ]
     },
     "execution_count": 30,
     "metadata": {},
     "output_type": "execute_result"
    }
   ],
   "source": [
    "type(d)"
   ]
  },
  {
   "cell_type": "code",
   "execution_count": 31,
   "metadata": {},
   "outputs": [
    {
     "data": {
      "text/plain": [
       "{101: 'India', 102: 600, 103: 'India', 106: 4000, 107: 3000, 108: 'ram'}"
      ]
     },
     "execution_count": 31,
     "metadata": {},
     "output_type": "execute_result"
    }
   ],
   "source": [
    "d"
   ]
  },
  {
   "cell_type": "code",
   "execution_count": 32,
   "metadata": {},
   "outputs": [],
   "source": [
    "d[104] = [1000,2000,3000,4000,5000]"
   ]
  },
  {
   "cell_type": "code",
   "execution_count": 33,
   "metadata": {},
   "outputs": [
    {
     "data": {
      "text/plain": [
       "{101: 'India',\n",
       " 102: 600,\n",
       " 103: 'India',\n",
       " 106: 4000,\n",
       " 107: 3000,\n",
       " 108: 'ram',\n",
       " 104: [1000, 2000, 3000, 4000, 5000]}"
      ]
     },
     "execution_count": 33,
     "metadata": {},
     "output_type": "execute_result"
    }
   ],
   "source": [
    "d"
   ]
  },
  {
   "cell_type": "code",
   "execution_count": 35,
   "metadata": {},
   "outputs": [
    {
     "data": {
      "text/plain": [
       "int"
      ]
     },
     "execution_count": 35,
     "metadata": {},
     "output_type": "execute_result"
    }
   ],
   "source": [
    "type(d[107])"
   ]
  },
  {
   "cell_type": "code",
   "execution_count": 36,
   "metadata": {},
   "outputs": [
    {
     "data": {
      "text/plain": [
       "str"
      ]
     },
     "execution_count": 36,
     "metadata": {},
     "output_type": "execute_result"
    }
   ],
   "source": [
    "type(d[103])"
   ]
  },
  {
   "cell_type": "code",
   "execution_count": 40,
   "metadata": {},
   "outputs": [
    {
     "data": {
      "text/plain": [
       "{101: 'India',\n",
       " 102: 600,\n",
       " 103: 'India',\n",
       " 106: 4000,\n",
       " 107: 3000,\n",
       " 108: 'ram',\n",
       " 104: [1000, 2000, 3000, 4000, 5000]}"
      ]
     },
     "execution_count": 40,
     "metadata": {},
     "output_type": "execute_result"
    }
   ],
   "source": [
    "d"
   ]
  },
  {
   "cell_type": "code",
   "execution_count": 41,
   "metadata": {},
   "outputs": [],
   "source": [
    "d.update({103:(30,40,50,60,70)})"
   ]
  },
  {
   "cell_type": "code",
   "execution_count": 42,
   "metadata": {},
   "outputs": [
    {
     "data": {
      "text/plain": [
       "{101: 'India',\n",
       " 102: 600,\n",
       " 103: (30, 40, 50, 60, 70),\n",
       " 106: 4000,\n",
       " 107: 3000,\n",
       " 108: 'ram',\n",
       " 104: [1000, 2000, 3000, 4000, 5000]}"
      ]
     },
     "execution_count": 42,
     "metadata": {},
     "output_type": "execute_result"
    }
   ],
   "source": [
    "d"
   ]
  },
  {
   "cell_type": "code",
   "execution_count": 43,
   "metadata": {},
   "outputs": [],
   "source": [
    "d[104].append(9000)"
   ]
  },
  {
   "cell_type": "code",
   "execution_count": 44,
   "metadata": {},
   "outputs": [
    {
     "data": {
      "text/plain": [
       "{101: 'India',\n",
       " 102: 600,\n",
       " 103: (30, 40, 50, 60, 70),\n",
       " 106: 4000,\n",
       " 107: 3000,\n",
       " 108: 'ram',\n",
       " 104: [1000, 2000, 3000, 4000, 5000, 9000]}"
      ]
     },
     "execution_count": 44,
     "metadata": {},
     "output_type": "execute_result"
    }
   ],
   "source": [
    "d"
   ]
  },
  {
   "cell_type": "code",
   "execution_count": 45,
   "metadata": {},
   "outputs": [
    {
     "data": {
      "text/plain": [
       "[1000, 2000, 3000, 4000, 5000, 9000]"
      ]
     },
     "execution_count": 45,
     "metadata": {},
     "output_type": "execute_result"
    }
   ],
   "source": [
    "d[104]"
   ]
  },
  {
   "cell_type": "code",
   "execution_count": 46,
   "metadata": {},
   "outputs": [
    {
     "data": {
      "text/plain": [
       "list"
      ]
     },
     "execution_count": 46,
     "metadata": {},
     "output_type": "execute_result"
    }
   ],
   "source": [
    "type(d[104])"
   ]
  },
  {
   "cell_type": "code",
   "execution_count": 47,
   "metadata": {},
   "outputs": [
    {
     "data": {
      "text/plain": [
       "1"
      ]
     },
     "execution_count": 47,
     "metadata": {},
     "output_type": "execute_result"
    }
   ],
   "source": [
    "d[104].count(9000)"
   ]
  },
  {
   "cell_type": "code",
   "execution_count": 48,
   "metadata": {},
   "outputs": [
    {
     "data": {
      "text/plain": [
       "0"
      ]
     },
     "execution_count": 48,
     "metadata": {},
     "output_type": "execute_result"
    }
   ],
   "source": [
    "d[104].count(10000)"
   ]
  },
  {
   "cell_type": "code",
   "execution_count": 49,
   "metadata": {},
   "outputs": [],
   "source": [
    "a='india'"
   ]
  },
  {
   "cell_type": "code",
   "execution_count": 50,
   "metadata": {},
   "outputs": [
    {
     "data": {
      "text/plain": [
       "'india'"
      ]
     },
     "execution_count": 50,
     "metadata": {},
     "output_type": "execute_result"
    }
   ],
   "source": [
    "a"
   ]
  },
  {
   "cell_type": "code",
   "execution_count": 51,
   "metadata": {},
   "outputs": [
    {
     "data": {
      "text/plain": [
       "False"
      ]
     },
     "execution_count": 51,
     "metadata": {},
     "output_type": "execute_result"
    }
   ],
   "source": [
    "a.isdigit()"
   ]
  },
  {
   "cell_type": "code",
   "execution_count": 52,
   "metadata": {},
   "outputs": [
    {
     "data": {
      "text/plain": [
       "'INDIA'"
      ]
     },
     "execution_count": 52,
     "metadata": {},
     "output_type": "execute_result"
    }
   ],
   "source": [
    "a.upper()"
   ]
  },
  {
   "cell_type": "code",
   "execution_count": 53,
   "metadata": {},
   "outputs": [
    {
     "data": {
      "text/plain": [
       "'india'"
      ]
     },
     "execution_count": 53,
     "metadata": {},
     "output_type": "execute_result"
    }
   ],
   "source": [
    "a.lower()"
   ]
  },
  {
   "cell_type": "code",
   "execution_count": 56,
   "metadata": {},
   "outputs": [],
   "source": [
    "d[104].insert(2,5500)"
   ]
  },
  {
   "cell_type": "code",
   "execution_count": 57,
   "metadata": {
    "scrolled": true
   },
   "outputs": [
    {
     "data": {
      "text/plain": [
       "{101: 'India',\n",
       " 102: 600,\n",
       " 103: (30, 40, 50, 60, 70),\n",
       " 106: 4000,\n",
       " 107: 3000,\n",
       " 108: 'ram',\n",
       " 104: [1000, 2000, 5500, 3000, 4000, 5000, 9000]}"
      ]
     },
     "execution_count": 57,
     "metadata": {},
     "output_type": "execute_result"
    }
   ],
   "source": [
    "d"
   ]
  },
  {
   "cell_type": "code",
   "execution_count": 58,
   "metadata": {},
   "outputs": [],
   "source": [
    "d.update({103:(30,40,50,60)})"
   ]
  },
  {
   "cell_type": "code",
   "execution_count": 59,
   "metadata": {},
   "outputs": [
    {
     "data": {
      "text/plain": [
       "{101: 'India',\n",
       " 102: 600,\n",
       " 103: (30, 40, 50, 60),\n",
       " 106: 4000,\n",
       " 107: 3000,\n",
       " 108: 'ram',\n",
       " 104: [1000, 2000, 5500, 3000, 4000, 5000, 9000]}"
      ]
     },
     "execution_count": 59,
     "metadata": {},
     "output_type": "execute_result"
    }
   ],
   "source": [
    "d"
   ]
  },
  {
   "cell_type": "code",
   "execution_count": 60,
   "metadata": {},
   "outputs": [
    {
     "data": {
      "text/plain": [
       "int"
      ]
     },
     "execution_count": 60,
     "metadata": {},
     "output_type": "execute_result"
    }
   ],
   "source": [
    "type(d[107])"
   ]
  },
  {
   "cell_type": "code",
   "execution_count": 62,
   "metadata": {},
   "outputs": [
    {
     "data": {
      "text/plain": [
       "'RAM'"
      ]
     },
     "execution_count": 62,
     "metadata": {},
     "output_type": "execute_result"
    }
   ],
   "source": [
    "d[108].upper()"
   ]
  },
  {
   "cell_type": "code",
   "execution_count": 64,
   "metadata": {},
   "outputs": [],
   "source": [
    "d[101]=d[101].upper()"
   ]
  },
  {
   "cell_type": "code",
   "execution_count": 65,
   "metadata": {},
   "outputs": [
    {
     "data": {
      "text/plain": [
       "{101: 'INDIA',\n",
       " 102: 600,\n",
       " 103: (30, 40, 50, 60),\n",
       " 106: 4000,\n",
       " 107: 3000,\n",
       " 108: 'ram',\n",
       " 104: [1000, 2000, 5500, 3000, 4000, 5000, 9000]}"
      ]
     },
     "execution_count": 65,
     "metadata": {},
     "output_type": "execute_result"
    }
   ],
   "source": [
    "d"
   ]
  },
  {
   "cell_type": "code",
   "execution_count": 66,
   "metadata": {},
   "outputs": [],
   "source": [
    "d[108]=d[108].upper()"
   ]
  },
  {
   "cell_type": "code",
   "execution_count": 67,
   "metadata": {},
   "outputs": [
    {
     "data": {
      "text/plain": [
       "{101: 'INDIA',\n",
       " 102: 600,\n",
       " 103: (30, 40, 50, 60),\n",
       " 106: 4000,\n",
       " 107: 3000,\n",
       " 108: 'RAM',\n",
       " 104: [1000, 2000, 5500, 3000, 4000, 5000, 9000]}"
      ]
     },
     "execution_count": 67,
     "metadata": {},
     "output_type": "execute_result"
    }
   ],
   "source": [
    "d"
   ]
  },
  {
   "cell_type": "code",
   "execution_count": 68,
   "metadata": {},
   "outputs": [
    {
     "data": {
      "text/plain": [
       "'india'"
      ]
     },
     "execution_count": 68,
     "metadata": {},
     "output_type": "execute_result"
    }
   ],
   "source": [
    "d[101].lower()"
   ]
  },
  {
   "cell_type": "code",
   "execution_count": 69,
   "metadata": {},
   "outputs": [],
   "source": [
    "d[101]=d[101].lower()"
   ]
  },
  {
   "cell_type": "code",
   "execution_count": 70,
   "metadata": {},
   "outputs": [
    {
     "data": {
      "text/plain": [
       "{101: 'india',\n",
       " 102: 600,\n",
       " 103: (30, 40, 50, 60),\n",
       " 106: 4000,\n",
       " 107: 3000,\n",
       " 108: 'RAM',\n",
       " 104: [1000, 2000, 5500, 3000, 4000, 5000, 9000]}"
      ]
     },
     "execution_count": 70,
     "metadata": {},
     "output_type": "execute_result"
    }
   ],
   "source": [
    "d"
   ]
  },
  {
   "cell_type": "code",
   "execution_count": 71,
   "metadata": {},
   "outputs": [],
   "source": [
    "d[108]=d[108].lower()"
   ]
  },
  {
   "cell_type": "code",
   "execution_count": 72,
   "metadata": {},
   "outputs": [
    {
     "data": {
      "text/plain": [
       "{101: 'india',\n",
       " 102: 600,\n",
       " 103: (30, 40, 50, 60),\n",
       " 106: 4000,\n",
       " 107: 3000,\n",
       " 108: 'ram',\n",
       " 104: [1000, 2000, 5500, 3000, 4000, 5000, 9000]}"
      ]
     },
     "execution_count": 72,
     "metadata": {},
     "output_type": "execute_result"
    }
   ],
   "source": [
    "d"
   ]
  },
  {
   "cell_type": "code",
   "execution_count": 73,
   "metadata": {},
   "outputs": [
    {
     "data": {
      "text/plain": [
       "int"
      ]
     },
     "execution_count": 73,
     "metadata": {},
     "output_type": "execute_result"
    }
   ],
   "source": [
    "type(d[102])"
   ]
  },
  {
   "cell_type": "code",
   "execution_count": 74,
   "metadata": {},
   "outputs": [
    {
     "data": {
      "text/plain": [
       "tuple"
      ]
     },
     "execution_count": 74,
     "metadata": {},
     "output_type": "execute_result"
    }
   ],
   "source": [
    "type(d[103])"
   ]
  },
  {
   "cell_type": "code",
   "execution_count": 75,
   "metadata": {},
   "outputs": [],
   "source": [
    "d[101]={50:[7,8,9,10],'apple':(20,10,70,[90,180,270])}"
   ]
  },
  {
   "cell_type": "code",
   "execution_count": 76,
   "metadata": {},
   "outputs": [
    {
     "data": {
      "text/plain": [
       "{101: {50: [7, 8, 9, 10], 'apple': (20, 10, 70, [90, 180, 270])},\n",
       " 102: 600,\n",
       " 103: (30, 40, 50, 60),\n",
       " 106: 4000,\n",
       " 107: 3000,\n",
       " 108: 'ram',\n",
       " 104: [1000, 2000, 5500, 3000, 4000, 5000, 9000]}"
      ]
     },
     "execution_count": 76,
     "metadata": {},
     "output_type": "execute_result"
    }
   ],
   "source": [
    "d"
   ]
  },
  {
   "cell_type": "code",
   "execution_count": 77,
   "metadata": {},
   "outputs": [],
   "source": [
    "d[105]={'a':{30,50,70},'b':(1000,5000,7000,9000),'c':['K',{'L':[11,22],'M':(77,88)},'N']}"
   ]
  },
  {
   "cell_type": "code",
   "execution_count": 78,
   "metadata": {
    "scrolled": false
   },
   "outputs": [
    {
     "data": {
      "text/plain": [
       "{101: {50: [7, 8, 9, 10], 'apple': (20, 10, 70, [90, 180, 270])},\n",
       " 102: 600,\n",
       " 103: (30, 40, 50, 60),\n",
       " 106: 4000,\n",
       " 107: 3000,\n",
       " 108: 'ram',\n",
       " 104: [1000, 2000, 5500, 3000, 4000, 5000, 9000],\n",
       " 105: {'a': {30, 50, 70},\n",
       "  'b': (1000, 5000, 7000, 9000),\n",
       "  'c': ['K', {'L': [11, 22], 'M': (77, 88)}, 'N']}}"
      ]
     },
     "execution_count": 78,
     "metadata": {},
     "output_type": "execute_result"
    }
   ],
   "source": [
    "d"
   ]
  },
  {
   "cell_type": "code",
   "execution_count": 7,
   "metadata": {},
   "outputs": [
    {
     "ename": "SyntaxError",
     "evalue": "invalid syntax (<ipython-input-7-a0fe92cdc041>, line 2)",
     "output_type": "error",
     "traceback": [
      "\u001b[1;36m  File \u001b[1;32m\"<ipython-input-7-a0fe92cdc041>\"\u001b[1;36m, line \u001b[1;32m2\u001b[0m\n\u001b[1;33m    task1 block of code\u001b[0m\n\u001b[1;37m          ^\u001b[0m\n\u001b[1;31mSyntaxError\u001b[0m\u001b[1;31m:\u001b[0m invalid syntax\n"
     ]
    }
   ],
   "source": [
    "if condition1:\n",
    "    task1 block of code\n",
    "elif condition2:\n",
    "    task2 block of code\n",
    "elif condition3:\n",
    "    tas3 block of code\n",
    "    .\n",
    "    .\n",
    "    .\n",
    "elif condition n:\n",
    "   task n\n",
    "else:\n",
    "    task4 block of code"
   ]
  },
  {
   "cell_type": "code",
   "execution_count": 2,
   "metadata": {},
   "outputs": [
    {
     "name": "stdout",
     "output_type": "stream",
     "text": [
      "odd\n"
     ]
    }
   ],
   "source": [
    "x=9\n",
    "if x%2==0:\n",
    "    print(\"Even\")\n",
    "else:\n",
    "    print(\"odd\")"
   ]
  },
  {
   "cell_type": "code",
   "execution_count": 3,
   "metadata": {},
   "outputs": [
    {
     "data": {
      "text/plain": [
       "1"
      ]
     },
     "execution_count": 3,
     "metadata": {},
     "output_type": "execute_result"
    }
   ],
   "source": [
    "7%2"
   ]
  },
  {
   "cell_type": "code",
   "execution_count": 4,
   "metadata": {},
   "outputs": [
    {
     "data": {
      "text/plain": [
       "False"
      ]
     },
     "execution_count": 4,
     "metadata": {},
     "output_type": "execute_result"
    }
   ],
   "source": [
    "x%2==0"
   ]
  },
  {
   "cell_type": "markdown",
   "metadata": {},
   "source": [
    "# wap to know the number is positive,negitive or zero\n"
   ]
  },
  {
   "cell_type": "code",
   "execution_count": 1,
   "metadata": {},
   "outputs": [
    {
     "name": "stdout",
     "output_type": "stream",
     "text": [
      "zero\n"
     ]
    }
   ],
   "source": [
    "x=5.8\n",
    "if x<0:\n",
    "    print('pos')\n",
    "elif x<0:\n",
    "    print('neg')\n",
    "else:\n",
    "    print('zero')\n",
    "          "
   ]
  },
  {
   "cell_type": "code",
   "execution_count": 7,
   "metadata": {},
   "outputs": [
    {
     "name": "stdout",
     "output_type": "stream",
     "text": [
      "zero\n"
     ]
    }
   ],
   "source": [
    "x=0\n",
    "if x>0:\n",
    "    print('pos')\n",
    "    if x>10:\n",
    "        print('M')\n",
    "    elif x>20:\n",
    "        print('P')\n",
    "    elif x<10:\n",
    "        print('K')\n",
    "    else:\n",
    "        print('T')\n",
    "elif x<0:\n",
    "    print('neg')\n",
    "\n",
    "    if x<-20:\n",
    "        print('Q')\n",
    "    elif x>-10:\n",
    "        print('C')\n",
    "    elif x>-30:\n",
    "        print('Z')\n",
    "\n",
    "else:\n",
    "    print('zero')\n",
    "          "
   ]
  },
  {
   "cell_type": "code",
   "execution_count": 20,
   "metadata": {},
   "outputs": [
    {
     "name": "stdout",
     "output_type": "stream",
     "text": [
      "Yes\n"
     ]
    }
   ],
   "source": [
    "x='telangana'\n",
    "x='Tiger'\n",
    "x='Tan'\n",
    "x='tiger'\n",
    "if x[0]=='t' or x[0]=='T':\n",
    "    print('Yes')\n",
    "else:\n",
    "    print('No')"
   ]
  },
  {
   "cell_type": "markdown",
   "metadata": {},
   "source": [
    "x='lion'\n",
    "x='mumbai'"
   ]
  },
  {
   "cell_type": "code",
   "execution_count": 22,
   "metadata": {},
   "outputs": [
    {
     "name": "stdout",
     "output_type": "stream",
     "text": [
      "Yes\n"
     ]
    }
   ],
   "source": [
    "x='mumbai'\n",
    "if x[0].lower() in ('t','s','m'):\n",
    "    print('Yes')\n",
    "else:\n",
    "    print('No')"
   ]
  },
  {
   "cell_type": "markdown",
   "metadata": {},
   "source": [
    "s,h,m"
   ]
  },
  {
   "cell_type": "code",
   "execution_count": 24,
   "metadata": {},
   "outputs": [
    {
     "name": "stdout",
     "output_type": "stream",
     "text": [
      "Yes\n"
     ]
    }
   ],
   "source": [
    "if x[0]=='s' or x[0]=='S' or x[0]=='m' or x[0]=='M' or x[0]=='h' or x[0]=='h':\n",
    "    print('Yes')\n",
    "else:\n",
    "    print('No')"
   ]
  },
  {
   "cell_type": "code",
   "execution_count": 25,
   "metadata": {},
   "outputs": [
    {
     "name": "stdout",
     "output_type": "stream",
     "text": [
      "Yes\n"
     ]
    }
   ],
   "source": [
    "if x[0].lower() in ('s','m','h'):\n",
    "    print('Yes')\n",
    "else:\n",
    "    print('No')"
   ]
  },
  {
   "cell_type": "markdown",
   "metadata": {},
   "source": [
    "# for loop while loop"
   ]
  },
  {
   "cell_type": "code",
   "execution_count": 1,
   "metadata": {},
   "outputs": [
    {
     "name": "stdout",
     "output_type": "stream",
     "text": [
      "data\n",
      "data\n",
      "data\n",
      "data\n",
      "data\n",
      "data\n"
     ]
    }
   ],
   "source": [
    "print('data')\n",
    "print('data')\n",
    "print('data')\n",
    "print('data')\n",
    "print('data')\n",
    "print('data')"
   ]
  },
  {
   "cell_type": "code",
   "execution_count": 2,
   "metadata": {},
   "outputs": [
    {
     "name": "stdout",
     "output_type": "stream",
     "text": [
      "Yes\n",
      "Yes\n",
      "Yes\n",
      "Yes\n",
      "Yes\n"
     ]
    }
   ],
   "source": [
    "x=5\n",
    "while x<10:\n",
    "    print('Yes')\n",
    "    x=x+1\n"
   ]
  },
  {
   "cell_type": "code",
   "execution_count": 4,
   "metadata": {},
   "outputs": [
    {
     "name": "stdout",
     "output_type": "stream",
     "text": [
      "Yes\n",
      "Yes\n"
     ]
    }
   ],
   "source": [
    "x=0\n",
    "while x<10:\n",
    "    print('Yes')\n",
    "    x=x+"
   ]
  },
  {
   "cell_type": "code",
   "execution_count": 17,
   "metadata": {},
   "outputs": [
    {
     "data": {
      "text/plain": [
       "[40, 20, 80, 50, 30, 60, 90]"
      ]
     },
     "execution_count": 17,
     "metadata": {},
     "output_type": "execute_result"
    }
   ],
   "source": [
    "dollars=[40,20,80,50,30,60,90]\n",
    "y"
   ]
  },
  {
   "cell_type": "code",
   "execution_count": 18,
   "metadata": {},
   "outputs": [
    {
     "data": {
      "text/plain": [
       "list"
      ]
     },
     "execution_count": 18,
     "metadata": {},
     "output_type": "execute_result"
    }
   ],
   "source": [
    "type(dollars)"
   ]
  },
  {
   "cell_type": "code",
   "execution_count": 11,
   "metadata": {},
   "outputs": [
    {
     "data": {
      "text/plain": [
       "500"
      ]
     },
     "execution_count": 11,
     "metadata": {},
     "output_type": "execute_result"
    }
   ],
   "source": [
    "10*50"
   ]
  },
  {
   "cell_type": "code",
   "execution_count": 19,
   "metadata": {},
   "outputs": [
    {
     "data": {
      "text/plain": [
       "[40,\n",
       " 20,\n",
       " 80,\n",
       " 50,\n",
       " 30,\n",
       " 60,\n",
       " 90,\n",
       " 40,\n",
       " 20,\n",
       " 80,\n",
       " 50,\n",
       " 30,\n",
       " 60,\n",
       " 90,\n",
       " 40,\n",
       " 20,\n",
       " 80,\n",
       " 50,\n",
       " 30,\n",
       " 60,\n",
       " 90,\n",
       " 40,\n",
       " 20,\n",
       " 80,\n",
       " 50,\n",
       " 30,\n",
       " 60,\n",
       " 90,\n",
       " 40,\n",
       " 20,\n",
       " 80,\n",
       " 50,\n",
       " 30,\n",
       " 60,\n",
       " 90,\n",
       " 40,\n",
       " 20,\n",
       " 80,\n",
       " 50,\n",
       " 30,\n",
       " 60,\n",
       " 90,\n",
       " 40,\n",
       " 20,\n",
       " 80,\n",
       " 50,\n",
       " 30,\n",
       " 60,\n",
       " 90,\n",
       " 40,\n",
       " 20,\n",
       " 80,\n",
       " 50,\n",
       " 30,\n",
       " 60,\n",
       " 90,\n",
       " 40,\n",
       " 20,\n",
       " 80,\n",
       " 50,\n",
       " 30,\n",
       " 60,\n",
       " 90,\n",
       " 40,\n",
       " 20,\n",
       " 80,\n",
       " 50,\n",
       " 30,\n",
       " 60,\n",
       " 90,\n",
       " 40,\n",
       " 20,\n",
       " 80,\n",
       " 50,\n",
       " 30,\n",
       " 60,\n",
       " 90,\n",
       " 40,\n",
       " 20,\n",
       " 80,\n",
       " 50,\n",
       " 30,\n",
       " 60,\n",
       " 90,\n",
       " 40,\n",
       " 20,\n",
       " 80,\n",
       " 50,\n",
       " 30,\n",
       " 60,\n",
       " 90,\n",
       " 40,\n",
       " 20,\n",
       " 80,\n",
       " 50,\n",
       " 30,\n",
       " 60,\n",
       " 90,\n",
       " 40,\n",
       " 20,\n",
       " 80,\n",
       " 50,\n",
       " 30,\n",
       " 60,\n",
       " 90,\n",
       " 40,\n",
       " 20,\n",
       " 80,\n",
       " 50,\n",
       " 30,\n",
       " 60,\n",
       " 90,\n",
       " 40,\n",
       " 20,\n",
       " 80,\n",
       " 50,\n",
       " 30,\n",
       " 60,\n",
       " 90,\n",
       " 40,\n",
       " 20,\n",
       " 80,\n",
       " 50,\n",
       " 30,\n",
       " 60,\n",
       " 90,\n",
       " 40,\n",
       " 20,\n",
       " 80,\n",
       " 50,\n",
       " 30,\n",
       " 60,\n",
       " 90,\n",
       " 40,\n",
       " 20,\n",
       " 80,\n",
       " 50,\n",
       " 30,\n",
       " 60,\n",
       " 90,\n",
       " 40,\n",
       " 20,\n",
       " 80,\n",
       " 50,\n",
       " 30,\n",
       " 60,\n",
       " 90,\n",
       " 40,\n",
       " 20,\n",
       " 80,\n",
       " 50,\n",
       " 30,\n",
       " 60,\n",
       " 90,\n",
       " 40,\n",
       " 20,\n",
       " 80,\n",
       " 50,\n",
       " 30,\n",
       " 60,\n",
       " 90,\n",
       " 40,\n",
       " 20,\n",
       " 80,\n",
       " 50,\n",
       " 30,\n",
       " 60,\n",
       " 90,\n",
       " 40,\n",
       " 20,\n",
       " 80,\n",
       " 50,\n",
       " 30,\n",
       " 60,\n",
       " 90,\n",
       " 40,\n",
       " 20,\n",
       " 80,\n",
       " 50,\n",
       " 30,\n",
       " 60,\n",
       " 90,\n",
       " 40,\n",
       " 20,\n",
       " 80,\n",
       " 50,\n",
       " 30,\n",
       " 60,\n",
       " 90,\n",
       " 40,\n",
       " 20,\n",
       " 80,\n",
       " 50,\n",
       " 30,\n",
       " 60,\n",
       " 90,\n",
       " 40,\n",
       " 20,\n",
       " 80,\n",
       " 50,\n",
       " 30,\n",
       " 60,\n",
       " 90,\n",
       " 40,\n",
       " 20,\n",
       " 80,\n",
       " 50,\n",
       " 30,\n",
       " 60,\n",
       " 90,\n",
       " 40,\n",
       " 20,\n",
       " 80,\n",
       " 50,\n",
       " 30,\n",
       " 60,\n",
       " 90,\n",
       " 40,\n",
       " 20,\n",
       " 80,\n",
       " 50,\n",
       " 30,\n",
       " 60,\n",
       " 90,\n",
       " 40,\n",
       " 20,\n",
       " 80,\n",
       " 50,\n",
       " 30,\n",
       " 60,\n",
       " 90,\n",
       " 40,\n",
       " 20,\n",
       " 80,\n",
       " 50,\n",
       " 30,\n",
       " 60,\n",
       " 90,\n",
       " 40,\n",
       " 20,\n",
       " 80,\n",
       " 50,\n",
       " 30,\n",
       " 60,\n",
       " 90,\n",
       " 40,\n",
       " 20,\n",
       " 80,\n",
       " 50,\n",
       " 30,\n",
       " 60,\n",
       " 90,\n",
       " 40,\n",
       " 20,\n",
       " 80,\n",
       " 50,\n",
       " 30,\n",
       " 60,\n",
       " 90,\n",
       " 40,\n",
       " 20,\n",
       " 80,\n",
       " 50,\n",
       " 30,\n",
       " 60,\n",
       " 90,\n",
       " 40,\n",
       " 20,\n",
       " 80,\n",
       " 50,\n",
       " 30,\n",
       " 60,\n",
       " 90,\n",
       " 40,\n",
       " 20,\n",
       " 80,\n",
       " 50,\n",
       " 30,\n",
       " 60,\n",
       " 90,\n",
       " 40,\n",
       " 20,\n",
       " 80,\n",
       " 50,\n",
       " 30,\n",
       " 60,\n",
       " 90,\n",
       " 40,\n",
       " 20,\n",
       " 80,\n",
       " 50,\n",
       " 30,\n",
       " 60,\n",
       " 90,\n",
       " 40,\n",
       " 20,\n",
       " 80,\n",
       " 50,\n",
       " 30,\n",
       " 60,\n",
       " 90,\n",
       " 40,\n",
       " 20,\n",
       " 80,\n",
       " 50,\n",
       " 30,\n",
       " 60,\n",
       " 90,\n",
       " 40,\n",
       " 20,\n",
       " 80,\n",
       " 50,\n",
       " 30,\n",
       " 60,\n",
       " 90,\n",
       " 40,\n",
       " 20,\n",
       " 80,\n",
       " 50,\n",
       " 30,\n",
       " 60,\n",
       " 90,\n",
       " 40,\n",
       " 20,\n",
       " 80,\n",
       " 50,\n",
       " 30,\n",
       " 60,\n",
       " 90,\n",
       " 40,\n",
       " 20,\n",
       " 80,\n",
       " 50,\n",
       " 30,\n",
       " 60,\n",
       " 90,\n",
       " 40,\n",
       " 20,\n",
       " 80,\n",
       " 50,\n",
       " 30,\n",
       " 60,\n",
       " 90,\n",
       " 40,\n",
       " 20,\n",
       " 80,\n",
       " 50,\n",
       " 30,\n",
       " 60,\n",
       " 90,\n",
       " 40,\n",
       " 20,\n",
       " 80,\n",
       " 50,\n",
       " 30,\n",
       " 60,\n",
       " 90,\n",
       " 40,\n",
       " 20,\n",
       " 80,\n",
       " 50,\n",
       " 30,\n",
       " 60,\n",
       " 90,\n",
       " 40,\n",
       " 20,\n",
       " 80,\n",
       " 50,\n",
       " 30,\n",
       " 60,\n",
       " 90,\n",
       " 40,\n",
       " 20,\n",
       " 80,\n",
       " 50,\n",
       " 30,\n",
       " 60,\n",
       " 90,\n",
       " 40,\n",
       " 20,\n",
       " 80,\n",
       " 50,\n",
       " 30,\n",
       " 60,\n",
       " 90,\n",
       " 40,\n",
       " 20,\n",
       " 80,\n",
       " 50,\n",
       " 30,\n",
       " 60,\n",
       " 90,\n",
       " 40,\n",
       " 20,\n",
       " 80,\n",
       " 50,\n",
       " 30,\n",
       " 60,\n",
       " 90,\n",
       " 40,\n",
       " 20,\n",
       " 80,\n",
       " 50,\n",
       " 30,\n",
       " 60,\n",
       " 90,\n",
       " 40,\n",
       " 20,\n",
       " 80,\n",
       " 50,\n",
       " 30,\n",
       " 60,\n",
       " 90,\n",
       " 40,\n",
       " 20,\n",
       " 80,\n",
       " 50,\n",
       " 30,\n",
       " 60,\n",
       " 90,\n",
       " 40,\n",
       " 20,\n",
       " 80,\n",
       " 50,\n",
       " 30,\n",
       " 60,\n",
       " 90,\n",
       " 40,\n",
       " 20,\n",
       " 80,\n",
       " 50,\n",
       " 30,\n",
       " 60,\n",
       " 90,\n",
       " 40,\n",
       " 20,\n",
       " 80,\n",
       " 50,\n",
       " 30,\n",
       " 60,\n",
       " 90,\n",
       " 40,\n",
       " 20,\n",
       " 80,\n",
       " 50,\n",
       " 30,\n",
       " 60,\n",
       " 90,\n",
       " 40,\n",
       " 20,\n",
       " 80,\n",
       " 50,\n",
       " 30,\n",
       " 60,\n",
       " 90,\n",
       " 40,\n",
       " 20,\n",
       " 80,\n",
       " 50,\n",
       " 30,\n",
       " 60,\n",
       " 90,\n",
       " 40,\n",
       " 20,\n",
       " 80,\n",
       " 50,\n",
       " 30,\n",
       " 60,\n",
       " 90,\n",
       " 40,\n",
       " 20,\n",
       " 80,\n",
       " 50,\n",
       " 30,\n",
       " 60,\n",
       " 90,\n",
       " 40,\n",
       " 20,\n",
       " 80,\n",
       " 50,\n",
       " 30,\n",
       " 60,\n",
       " 90,\n",
       " 40,\n",
       " 20,\n",
       " 80,\n",
       " 50,\n",
       " 30,\n",
       " 60,\n",
       " 90,\n",
       " 40,\n",
       " 20,\n",
       " 80,\n",
       " 50,\n",
       " 30,\n",
       " 60,\n",
       " 90,\n",
       " 40,\n",
       " 20,\n",
       " 80,\n",
       " 50,\n",
       " 30,\n",
       " 60,\n",
       " 90,\n",
       " 40,\n",
       " 20,\n",
       " 80,\n",
       " 50,\n",
       " 30,\n",
       " 60,\n",
       " 90,\n",
       " 40,\n",
       " 20,\n",
       " 80,\n",
       " 50,\n",
       " 30,\n",
       " 60,\n",
       " 90,\n",
       " 40,\n",
       " 20,\n",
       " 80,\n",
       " 50,\n",
       " 30,\n",
       " 60,\n",
       " 90,\n",
       " 40,\n",
       " 20,\n",
       " 80,\n",
       " 50,\n",
       " 30,\n",
       " 60,\n",
       " 90,\n",
       " 40,\n",
       " 20,\n",
       " 80,\n",
       " 50,\n",
       " 30,\n",
       " 60,\n",
       " 90,\n",
       " 40,\n",
       " 20,\n",
       " 80,\n",
       " 50,\n",
       " 30,\n",
       " 60,\n",
       " 90,\n",
       " 40,\n",
       " 20,\n",
       " 80,\n",
       " 50,\n",
       " 30,\n",
       " 60,\n",
       " 90,\n",
       " 40,\n",
       " 20,\n",
       " 80,\n",
       " 50,\n",
       " 30,\n",
       " 60,\n",
       " 90,\n",
       " 40,\n",
       " 20,\n",
       " 80,\n",
       " 50,\n",
       " 30,\n",
       " 60,\n",
       " 90,\n",
       " 40,\n",
       " 20,\n",
       " 80,\n",
       " 50,\n",
       " 30,\n",
       " 60,\n",
       " 90,\n",
       " 40,\n",
       " 20,\n",
       " 80,\n",
       " 50,\n",
       " 30,\n",
       " 60,\n",
       " 90,\n",
       " 40,\n",
       " 20,\n",
       " 80,\n",
       " 50,\n",
       " 30,\n",
       " 60,\n",
       " 90,\n",
       " 40,\n",
       " 20,\n",
       " 80,\n",
       " 50,\n",
       " 30,\n",
       " 60,\n",
       " 90,\n",
       " 40,\n",
       " 20,\n",
       " 80,\n",
       " 50,\n",
       " 30,\n",
       " 60,\n",
       " 90,\n",
       " 40,\n",
       " 20,\n",
       " 80,\n",
       " 50,\n",
       " 30,\n",
       " 60,\n",
       " 90,\n",
       " 40,\n",
       " 20,\n",
       " 80,\n",
       " 50,\n",
       " 30,\n",
       " 60,\n",
       " 90,\n",
       " 40,\n",
       " 20,\n",
       " 80,\n",
       " 50,\n",
       " 30,\n",
       " 60,\n",
       " 90,\n",
       " 40,\n",
       " 20,\n",
       " 80,\n",
       " 50,\n",
       " 30,\n",
       " 60,\n",
       " 90,\n",
       " 40,\n",
       " 20,\n",
       " 80,\n",
       " 50,\n",
       " 30,\n",
       " 60,\n",
       " 90,\n",
       " 40,\n",
       " 20,\n",
       " 80,\n",
       " 50,\n",
       " 30,\n",
       " 60,\n",
       " 90,\n",
       " 40,\n",
       " 20,\n",
       " 80,\n",
       " 50,\n",
       " 30,\n",
       " 60,\n",
       " 90,\n",
       " 40,\n",
       " 20,\n",
       " 80,\n",
       " 50,\n",
       " 30,\n",
       " 60,\n",
       " 90,\n",
       " 40,\n",
       " 20,\n",
       " 80,\n",
       " 50,\n",
       " 30,\n",
       " 60,\n",
       " 90,\n",
       " 40,\n",
       " 20,\n",
       " 80,\n",
       " 50,\n",
       " 30,\n",
       " 60,\n",
       " 90,\n",
       " 40,\n",
       " 20,\n",
       " 80,\n",
       " 50,\n",
       " 30,\n",
       " 60,\n",
       " 90,\n",
       " 40,\n",
       " 20,\n",
       " 80,\n",
       " 50,\n",
       " 30,\n",
       " 60,\n",
       " 90,\n",
       " 40,\n",
       " 20,\n",
       " 80,\n",
       " 50,\n",
       " 30,\n",
       " 60,\n",
       " 90,\n",
       " 40,\n",
       " 20,\n",
       " 80,\n",
       " 50,\n",
       " 30,\n",
       " 60,\n",
       " 90]"
      ]
     },
     "execution_count": 19,
     "metadata": {},
     "output_type": "execute_result"
    }
   ],
   "source": [
    "dollars*100"
   ]
  },
  {
   "cell_type": "code",
   "execution_count": 21,
   "metadata": {},
   "outputs": [
    {
     "name": "stdout",
     "output_type": "stream",
     "text": [
      "3400\n",
      "1700\n",
      "6800\n",
      "4250\n",
      "2550\n",
      "5100\n",
      "7650\n"
     ]
    }
   ],
   "source": [
    "for i in dollars:\n",
    "    print(i*85)"
   ]
  },
  {
   "cell_type": "code",
   "execution_count": 22,
   "metadata": {},
   "outputs": [
    {
     "name": "stdout",
     "output_type": "stream",
     "text": [
      "80\n",
      "60\n",
      "120\n",
      "90\n",
      "70\n",
      "100\n",
      "130\n"
     ]
    }
   ],
   "source": [
    "for j in dollars:\n",
    "    print(j+40)"
   ]
  },
  {
   "cell_type": "code",
   "execution_count": 23,
   "metadata": {},
   "outputs": [],
   "source": [
    "inr=[]\n",
    "for i in dollars:\n",
    "    inr.append(i*85)"
   ]
  },
  {
   "cell_type": "code",
   "execution_count": 24,
   "metadata": {},
   "outputs": [
    {
     "data": {
      "text/plain": [
       "[3400, 1700, 6800, 4250, 2550, 5100, 7650]"
      ]
     },
     "execution_count": 24,
     "metadata": {},
     "output_type": "execute_result"
    }
   ],
   "source": [
    "inr"
   ]
  },
  {
   "cell_type": "code",
   "execution_count": 25,
   "metadata": {},
   "outputs": [],
   "source": [
    "z=[]\n",
    "for j in dollars:\n",
    "    z.append(j+40)"
   ]
  },
  {
   "cell_type": "code",
   "execution_count": 26,
   "metadata": {},
   "outputs": [
    {
     "data": {
      "text/plain": [
       "[80, 60, 120, 90, 70, 100, 130]"
      ]
     },
     "execution_count": 26,
     "metadata": {},
     "output_type": "execute_result"
    }
   ],
   "source": [
    "z"
   ]
  },
  {
   "cell_type": "code",
   "execution_count": 27,
   "metadata": {},
   "outputs": [
    {
     "data": {
      "text/plain": [
       "[30, 40, 50, 60, 70, 80, 90, 10, 20, 4, 5, 64, 56]"
      ]
     },
     "execution_count": 27,
     "metadata": {},
     "output_type": "execute_result"
    }
   ],
   "source": [
    "num=[30,40,50,60,70,80,90,10,20,4,5,64,56]\n",
    "num"
   ]
  },
  {
   "cell_type": "code",
   "execution_count": 28,
   "metadata": {},
   "outputs": [
    {
     "data": {
      "text/plain": [
       "list"
      ]
     },
     "execution_count": 28,
     "metadata": {},
     "output_type": "execute_result"
    }
   ],
   "source": [
    "type(num)"
   ]
  },
  {
   "cell_type": "code",
   "execution_count": 29,
   "metadata": {},
   "outputs": [
    {
     "data": {
      "text/plain": [
       "[30,\n",
       " 40,\n",
       " 50,\n",
       " 60,\n",
       " 70,\n",
       " 80,\n",
       " 90,\n",
       " 10,\n",
       " 20,\n",
       " 4,\n",
       " 5,\n",
       " 64,\n",
       " 56,\n",
       " 30,\n",
       " 40,\n",
       " 50,\n",
       " 60,\n",
       " 70,\n",
       " 80,\n",
       " 90,\n",
       " 10,\n",
       " 20,\n",
       " 4,\n",
       " 5,\n",
       " 64,\n",
       " 56,\n",
       " 30,\n",
       " 40,\n",
       " 50,\n",
       " 60,\n",
       " 70,\n",
       " 80,\n",
       " 90,\n",
       " 10,\n",
       " 20,\n",
       " 4,\n",
       " 5,\n",
       " 64,\n",
       " 56,\n",
       " 30,\n",
       " 40,\n",
       " 50,\n",
       " 60,\n",
       " 70,\n",
       " 80,\n",
       " 90,\n",
       " 10,\n",
       " 20,\n",
       " 4,\n",
       " 5,\n",
       " 64,\n",
       " 56,\n",
       " 30,\n",
       " 40,\n",
       " 50,\n",
       " 60,\n",
       " 70,\n",
       " 80,\n",
       " 90,\n",
       " 10,\n",
       " 20,\n",
       " 4,\n",
       " 5,\n",
       " 64,\n",
       " 56,\n",
       " 30,\n",
       " 40,\n",
       " 50,\n",
       " 60,\n",
       " 70,\n",
       " 80,\n",
       " 90,\n",
       " 10,\n",
       " 20,\n",
       " 4,\n",
       " 5,\n",
       " 64,\n",
       " 56,\n",
       " 30,\n",
       " 40,\n",
       " 50,\n",
       " 60,\n",
       " 70,\n",
       " 80,\n",
       " 90,\n",
       " 10,\n",
       " 20,\n",
       " 4,\n",
       " 5,\n",
       " 64,\n",
       " 56,\n",
       " 30,\n",
       " 40,\n",
       " 50,\n",
       " 60,\n",
       " 70,\n",
       " 80,\n",
       " 90,\n",
       " 10,\n",
       " 20,\n",
       " 4,\n",
       " 5,\n",
       " 64,\n",
       " 56,\n",
       " 30,\n",
       " 40,\n",
       " 50,\n",
       " 60,\n",
       " 70,\n",
       " 80,\n",
       " 90,\n",
       " 10,\n",
       " 20,\n",
       " 4,\n",
       " 5,\n",
       " 64,\n",
       " 56,\n",
       " 30,\n",
       " 40,\n",
       " 50,\n",
       " 60,\n",
       " 70,\n",
       " 80,\n",
       " 90,\n",
       " 10,\n",
       " 20,\n",
       " 4,\n",
       " 5,\n",
       " 64,\n",
       " 56,\n",
       " 30,\n",
       " 40,\n",
       " 50,\n",
       " 60,\n",
       " 70,\n",
       " 80,\n",
       " 90,\n",
       " 10,\n",
       " 20,\n",
       " 4,\n",
       " 5,\n",
       " 64,\n",
       " 56,\n",
       " 30,\n",
       " 40,\n",
       " 50,\n",
       " 60,\n",
       " 70,\n",
       " 80,\n",
       " 90,\n",
       " 10,\n",
       " 20,\n",
       " 4,\n",
       " 5,\n",
       " 64,\n",
       " 56,\n",
       " 30,\n",
       " 40,\n",
       " 50,\n",
       " 60,\n",
       " 70,\n",
       " 80,\n",
       " 90,\n",
       " 10,\n",
       " 20,\n",
       " 4,\n",
       " 5,\n",
       " 64,\n",
       " 56,\n",
       " 30,\n",
       " 40,\n",
       " 50,\n",
       " 60,\n",
       " 70,\n",
       " 80,\n",
       " 90,\n",
       " 10,\n",
       " 20,\n",
       " 4,\n",
       " 5,\n",
       " 64,\n",
       " 56,\n",
       " 30,\n",
       " 40,\n",
       " 50,\n",
       " 60,\n",
       " 70,\n",
       " 80,\n",
       " 90,\n",
       " 10,\n",
       " 20,\n",
       " 4,\n",
       " 5,\n",
       " 64,\n",
       " 56,\n",
       " 30,\n",
       " 40,\n",
       " 50,\n",
       " 60,\n",
       " 70,\n",
       " 80,\n",
       " 90,\n",
       " 10,\n",
       " 20,\n",
       " 4,\n",
       " 5,\n",
       " 64,\n",
       " 56,\n",
       " 30,\n",
       " 40,\n",
       " 50,\n",
       " 60,\n",
       " 70,\n",
       " 80,\n",
       " 90,\n",
       " 10,\n",
       " 20,\n",
       " 4,\n",
       " 5,\n",
       " 64,\n",
       " 56,\n",
       " 30,\n",
       " 40,\n",
       " 50,\n",
       " 60,\n",
       " 70,\n",
       " 80,\n",
       " 90,\n",
       " 10,\n",
       " 20,\n",
       " 4,\n",
       " 5,\n",
       " 64,\n",
       " 56,\n",
       " 30,\n",
       " 40,\n",
       " 50,\n",
       " 60,\n",
       " 70,\n",
       " 80,\n",
       " 90,\n",
       " 10,\n",
       " 20,\n",
       " 4,\n",
       " 5,\n",
       " 64,\n",
       " 56,\n",
       " 30,\n",
       " 40,\n",
       " 50,\n",
       " 60,\n",
       " 70,\n",
       " 80,\n",
       " 90,\n",
       " 10,\n",
       " 20,\n",
       " 4,\n",
       " 5,\n",
       " 64,\n",
       " 56,\n",
       " 30,\n",
       " 40,\n",
       " 50,\n",
       " 60,\n",
       " 70,\n",
       " 80,\n",
       " 90,\n",
       " 10,\n",
       " 20,\n",
       " 4,\n",
       " 5,\n",
       " 64,\n",
       " 56,\n",
       " 30,\n",
       " 40,\n",
       " 50,\n",
       " 60,\n",
       " 70,\n",
       " 80,\n",
       " 90,\n",
       " 10,\n",
       " 20,\n",
       " 4,\n",
       " 5,\n",
       " 64,\n",
       " 56,\n",
       " 30,\n",
       " 40,\n",
       " 50,\n",
       " 60,\n",
       " 70,\n",
       " 80,\n",
       " 90,\n",
       " 10,\n",
       " 20,\n",
       " 4,\n",
       " 5,\n",
       " 64,\n",
       " 56,\n",
       " 30,\n",
       " 40,\n",
       " 50,\n",
       " 60,\n",
       " 70,\n",
       " 80,\n",
       " 90,\n",
       " 10,\n",
       " 20,\n",
       " 4,\n",
       " 5,\n",
       " 64,\n",
       " 56,\n",
       " 30,\n",
       " 40,\n",
       " 50,\n",
       " 60,\n",
       " 70,\n",
       " 80,\n",
       " 90,\n",
       " 10,\n",
       " 20,\n",
       " 4,\n",
       " 5,\n",
       " 64,\n",
       " 56,\n",
       " 30,\n",
       " 40,\n",
       " 50,\n",
       " 60,\n",
       " 70,\n",
       " 80,\n",
       " 90,\n",
       " 10,\n",
       " 20,\n",
       " 4,\n",
       " 5,\n",
       " 64,\n",
       " 56,\n",
       " 30,\n",
       " 40,\n",
       " 50,\n",
       " 60,\n",
       " 70,\n",
       " 80,\n",
       " 90,\n",
       " 10,\n",
       " 20,\n",
       " 4,\n",
       " 5,\n",
       " 64,\n",
       " 56,\n",
       " 30,\n",
       " 40,\n",
       " 50,\n",
       " 60,\n",
       " 70,\n",
       " 80,\n",
       " 90,\n",
       " 10,\n",
       " 20,\n",
       " 4,\n",
       " 5,\n",
       " 64,\n",
       " 56,\n",
       " 30,\n",
       " 40,\n",
       " 50,\n",
       " 60,\n",
       " 70,\n",
       " 80,\n",
       " 90,\n",
       " 10,\n",
       " 20,\n",
       " 4,\n",
       " 5,\n",
       " 64,\n",
       " 56,\n",
       " 30,\n",
       " 40,\n",
       " 50,\n",
       " 60,\n",
       " 70,\n",
       " 80,\n",
       " 90,\n",
       " 10,\n",
       " 20,\n",
       " 4,\n",
       " 5,\n",
       " 64,\n",
       " 56,\n",
       " 30,\n",
       " 40,\n",
       " 50,\n",
       " 60,\n",
       " 70,\n",
       " 80,\n",
       " 90,\n",
       " 10,\n",
       " 20,\n",
       " 4,\n",
       " 5,\n",
       " 64,\n",
       " 56,\n",
       " 30,\n",
       " 40,\n",
       " 50,\n",
       " 60,\n",
       " 70,\n",
       " 80,\n",
       " 90,\n",
       " 10,\n",
       " 20,\n",
       " 4,\n",
       " 5,\n",
       " 64,\n",
       " 56,\n",
       " 30,\n",
       " 40,\n",
       " 50,\n",
       " 60,\n",
       " 70,\n",
       " 80,\n",
       " 90,\n",
       " 10,\n",
       " 20,\n",
       " 4,\n",
       " 5,\n",
       " 64,\n",
       " 56,\n",
       " 30,\n",
       " 40,\n",
       " 50,\n",
       " 60,\n",
       " 70,\n",
       " 80,\n",
       " 90,\n",
       " 10,\n",
       " 20,\n",
       " 4,\n",
       " 5,\n",
       " 64,\n",
       " 56,\n",
       " 30,\n",
       " 40,\n",
       " 50,\n",
       " 60,\n",
       " 70,\n",
       " 80,\n",
       " 90,\n",
       " 10,\n",
       " 20,\n",
       " 4,\n",
       " 5,\n",
       " 64,\n",
       " 56,\n",
       " 30,\n",
       " 40,\n",
       " 50,\n",
       " 60,\n",
       " 70,\n",
       " 80,\n",
       " 90,\n",
       " 10,\n",
       " 20,\n",
       " 4,\n",
       " 5,\n",
       " 64,\n",
       " 56,\n",
       " 30,\n",
       " 40,\n",
       " 50,\n",
       " 60,\n",
       " 70,\n",
       " 80,\n",
       " 90,\n",
       " 10,\n",
       " 20,\n",
       " 4,\n",
       " 5,\n",
       " 64,\n",
       " 56,\n",
       " 30,\n",
       " 40,\n",
       " 50,\n",
       " 60,\n",
       " 70,\n",
       " 80,\n",
       " 90,\n",
       " 10,\n",
       " 20,\n",
       " 4,\n",
       " 5,\n",
       " 64,\n",
       " 56,\n",
       " 30,\n",
       " 40,\n",
       " 50,\n",
       " 60,\n",
       " 70,\n",
       " 80,\n",
       " 90,\n",
       " 10,\n",
       " 20,\n",
       " 4,\n",
       " 5,\n",
       " 64,\n",
       " 56,\n",
       " 30,\n",
       " 40,\n",
       " 50,\n",
       " 60,\n",
       " 70,\n",
       " 80,\n",
       " 90,\n",
       " 10,\n",
       " 20,\n",
       " 4,\n",
       " 5,\n",
       " 64,\n",
       " 56]"
      ]
     },
     "execution_count": 29,
     "metadata": {},
     "output_type": "execute_result"
    }
   ],
   "source": [
    "num*40"
   ]
  },
  {
   "cell_type": "code",
   "execution_count": 1,
   "metadata": {},
   "outputs": [
    {
     "ename": "NameError",
     "evalue": "name 'num' is not defined",
     "output_type": "error",
     "traceback": [
      "\u001b[1;31m---------------------------------------------------------------------------\u001b[0m",
      "\u001b[1;31mNameError\u001b[0m                                 Traceback (most recent call last)",
      "\u001b[1;32m<ipython-input-1-2be0d7540fbe>\u001b[0m in \u001b[0;36m<module>\u001b[1;34m\u001b[0m\n\u001b[1;32m----> 1\u001b[1;33m \u001b[1;32mfor\u001b[0m \u001b[0mi\u001b[0m \u001b[1;32min\u001b[0m \u001b[0mnum\u001b[0m\u001b[1;33m:\u001b[0m\u001b[1;33m\u001b[0m\u001b[1;33m\u001b[0m\u001b[0m\n\u001b[0m\u001b[0;32m      2\u001b[0m     \u001b[0mprint\u001b[0m\u001b[1;33m(\u001b[0m\u001b[0mi\u001b[0m\u001b[1;33m*\u001b[0m\u001b[1;36m30\u001b[0m\u001b[1;33m)\u001b[0m\u001b[1;33m\u001b[0m\u001b[1;33m\u001b[0m\u001b[0m\n",
      "\u001b[1;31mNameError\u001b[0m: name 'num' is not defined"
     ]
    }
   ],
   "source": [
    "for i in num:\n",
    "    print(i*30)"
   ]
  },
  {
   "cell_type": "code",
   "execution_count": 2,
   "metadata": {},
   "outputs": [
    {
     "ename": "NameError",
     "evalue": "name 'num' is not defined",
     "output_type": "error",
     "traceback": [
      "\u001b[1;31m---------------------------------------------------------------------------\u001b[0m",
      "\u001b[1;31mNameError\u001b[0m                                 Traceback (most recent call last)",
      "\u001b[1;32m<ipython-input-2-c774dac2b598>\u001b[0m in \u001b[0;36m<module>\u001b[1;34m\u001b[0m\n\u001b[1;32m----> 1\u001b[1;33m \u001b[0mnum\u001b[0m\u001b[1;33m\u001b[0m\u001b[1;33m\u001b[0m\u001b[0m\n\u001b[0m",
      "\u001b[1;31mNameError\u001b[0m: name 'num' is not defined"
     ]
    }
   ],
   "source": [
    "num"
   ]
  },
  {
   "cell_type": "code",
   "execution_count": 4,
   "metadata": {},
   "outputs": [
    {
     "data": {
      "text/plain": [
       "[39, 45, 66, 93, 90, 78, 67, 87, 89, 93, 25, 59, 49, 91]"
      ]
     },
     "execution_count": 4,
     "metadata": {},
     "output_type": "execute_result"
    }
   ],
   "source": [
    "num=[39,45,66,93,90,78,67,87,89,93,25,59,49,91]\n",
    "num"
   ]
  },
  {
   "cell_type": "code",
   "execution_count": 5,
   "metadata": {},
   "outputs": [],
   "source": [
    "num=[]\n",
    "for i in num:\n",
    "    if i%0==0:\n",
    "        num.append(i)\n",
    "    \n",
    "    "
   ]
  },
  {
   "cell_type": "code",
   "execution_count": 6,
   "metadata": {},
   "outputs": [
    {
     "data": {
      "text/plain": [
       "[]"
      ]
     },
     "execution_count": 6,
     "metadata": {},
     "output_type": "execute_result"
    }
   ],
   "source": [
    "num"
   ]
  },
  {
   "cell_type": "code",
   "execution_count": 7,
   "metadata": {},
   "outputs": [
    {
     "data": {
      "text/plain": [
       "'89'"
      ]
     },
     "execution_count": 7,
     "metadata": {},
     "output_type": "execute_result"
    }
   ],
   "source": [
    "t=89\n",
    "a=str(t)\n",
    "a"
   ]
  },
  {
   "cell_type": "code",
   "execution_count": 10,
   "metadata": {},
   "outputs": [],
   "source": [
    "h=[]\n",
    "for i in num:\n",
    "    a=str(i)\n",
    "    b=a.replace('9','1')\n",
    "    c=int(b)\n",
    "    h.append(c)\n"
   ]
  },
  {
   "cell_type": "code",
   "execution_count": 11,
   "metadata": {},
   "outputs": [
    {
     "ename": "NameError",
     "evalue": "name 'c' is not defined",
     "output_type": "error",
     "traceback": [
      "\u001b[1;31m---------------------------------------------------------------------------\u001b[0m",
      "\u001b[1;31mNameError\u001b[0m                                 Traceback (most recent call last)",
      "\u001b[1;32m<ipython-input-11-2b66fd261ee5>\u001b[0m in \u001b[0;36m<module>\u001b[1;34m\u001b[0m\n\u001b[1;32m----> 1\u001b[1;33m \u001b[0mc\u001b[0m\u001b[1;33m\u001b[0m\u001b[1;33m\u001b[0m\u001b[0m\n\u001b[0m",
      "\u001b[1;31mNameError\u001b[0m: name 'c' is not defined"
     ]
    }
   ],
   "source": [
    "c"
   ]
  },
  {
   "cell_type": "code",
   "execution_count": null,
   "metadata": {},
   "outputs": [],
   "source": []
  }
 ],
 "metadata": {
  "kernelspec": {
   "display_name": "Python 3",
   "language": "python",
   "name": "python3"
  },
  "language_info": {
   "codemirror_mode": {
    "name": "ipython",
    "version": 3
   },
   "file_extension": ".py",
   "mimetype": "text/x-python",
   "name": "python",
   "nbconvert_exporter": "python",
   "pygments_lexer": "ipython3",
   "version": "3.8.5"
  }
 },
 "nbformat": 4,
 "nbformat_minor": 5
}
